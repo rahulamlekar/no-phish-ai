{
 "cells": [
  {
   "cell_type": "code",
   "execution_count": 6,
   "id": "d7666b44-92f1-4b45-aab2-b787660dc6ca",
   "metadata": {},
   "outputs": [
    {
     "data": {
      "text/plain": [
       "False"
      ]
     },
     "execution_count": 6,
     "metadata": {},
     "output_type": "execute_result"
    }
   ],
   "source": [
    "import os\n",
    "import openai\n",
    "from dotenv import load_dotenv\n",
    "load_dotenv()"
   ]
  },
  {
   "cell_type": "code",
   "execution_count": 7,
   "id": "90c5fc04-9231-4c3f-8b40-16b36b1c0b1c",
   "metadata": {},
   "outputs": [],
   "source": [
    "api_key = os.getenv('OPEN_API_KEY')\n",
    "openai.api_key = api_key"
   ]
  },
  {
   "cell_type": "code",
   "execution_count": null,
   "id": "0777d0eb-753a-4212-a476-75c2d0e513dd",
   "metadata": {},
   "outputs": [],
   "source": [
    "prompt = f\"List all possible languages of origin for the name {name}?\\Limit your answers to at most 3 languages. \\ Your response should be in this format as shown here: {text}\"\n",
    "response = get_completion(prompt)\n",
    " "
   ]
  }
 ],
 "metadata": {
  "kernelspec": {
   "display_name": "Python 3 (ipykernel)",
   "language": "python",
   "name": "python3"
  },
  "language_info": {
   "codemirror_mode": {
    "name": "ipython",
    "version": 3
   },
   "file_extension": ".py",
   "mimetype": "text/x-python",
   "name": "python",
   "nbconvert_exporter": "python",
   "pygments_lexer": "ipython3",
   "version": "3.11.5"
  }
 },
 "nbformat": 4,
 "nbformat_minor": 5
}
